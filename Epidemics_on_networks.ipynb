{
 "cells": [
  {
   "cell_type": "code",
   "execution_count": null,
   "metadata": {},
   "outputs": [],
   "source": [
    "import matplotlib.pyplot as plt\n",
    "import matplotlib.cm as cm\n",
    "import community as community_louvain\n",
    "import numpy as np\n",
    "import networkx as nx\n",
    "from community import community_louvain\n",
    "from random import sample\n",
    "from scipy.integrate import odeint\n",
    "import scipy.sparse as sp\n",
    "import pandas as pd\n",
    "import numpy.linalg as lg\n",
    "import operator\n",
    "%matplotlib inline\n",
    "from tabulate import tabulate\n",
    "from networkx.algorithms import community"
   ]
  },
  {
   "cell_type": "code",
   "execution_count": null,
   "metadata": {},
   "outputs": [],
   "source": [
    "G=nx.read_weighted_edgelist('ColoSpg.txt')# Colorado Springs dataset\n",
    "D=nx.read_weighted_edgelist('Drugs.txt')\n",
    "Z=nx.read_gml(\"dolphins.gml\")\n",
    "F=nx.read_gml(\"lesmis.gml\")\n",
    "ER=nx.erdos_renyi_graph(500,0.024,seed=1)\n",
    "air=nx.read_weighted_edgelist('USAir 97.txt')\n",
    "rd=nx.read_weighted_edgelist('road2.txt')\n",
    "BA=nx.barabasi_albert_graph(100,3,seed=1)\n",
    "air2=nx.read_edgelist('airline.txt')"
   ]
  },
  {
   "cell_type": "code",
   "execution_count": null,
   "metadata": {},
   "outputs": [],
   "source": [
    "def matrix(g):# graph matrices\n",
    "    return nx.to_numpy_matrix(g"
   ]
  },
  {
   "cell_type": "markdown",
   "metadata": {},
   "source": [
    "# Non-Linear Dynamical System"
   ]
  },
  {
   "cell_type": "code",
   "execution_count": null,
   "metadata": {},
   "outputs": [],
   "source": [
    "def epi_step(A, p, n, gamma, beta):\n",
    "    q = np.zeros(n)\n",
    "    for i in range(n):\n",
    "        z = 1\n",
    "        f,f1,v=sp.find(A[:,i])# returns the non-zero elements in a sparse matrix\n",
    "        for j in f:\n",
    "            z = z*(1-beta*A[i,j]*p[j]) #zeta\n",
    "        q[i] = (1-p[i])*z+gamma*p[i]*z # probability of not being infected\n",
    "    p = 1-q \n",
    "    \n",
    "    return p# probability of  being infected"
   ]
  },
  {
   "cell_type": "code",
   "execution_count": 21,
   "metadata": {},
   "outputs": [],
   "source": [
    "def trial(A, gamma, beta, m, init):\n",
    "    t = np.zeros(m)\n",
    "    n = len(A)\n",
    "    p=init\n",
    "    for i in range(m):\n",
    "        t[i] = sum(p)\n",
    "        p = epi_step(A, p, n, gamma, beta)\n",
    "    return t,p"
   ]
  },
  {
   "cell_type": "code",
   "execution_count": 346,
   "metadata": {},
   "outputs": [],
   "source": [
    "def epidemic(g): \n",
    "    \"\"\" Function that returns fraction of infections at every time-step\n",
    "    \"\"\"\n",
    "    #for i in range(5):\n",
    "    m=100\n",
    "    gamma=.08\n",
    "    beta=.14\n",
    "    init = np.zeros(len(matrix(g)))\n",
    "    init[0] = 1\n",
    "    t,p1 = trial(matrix(g),gamma,beta,m,init)\n",
    "    a=plt.plot(range(m),t/len(matrix(g)),'x',label=('no vaccination'))\n",
    "    #plt.grid()\n",
    "    #b=plt.legend()\n",
    "    return a"
   ]
  },
  {
   "cell_type": "markdown",
   "metadata": {},
   "source": [
    "# SIS Model -differential equation"
   ]
  },
  {
   "cell_type": "code",
   "execution_count": 1,
   "metadata": {},
   "outputs": [],
   "source": [
    "def my_SIS(g,beta,gamma,t,ax1):   \n",
    "    N = len(g.nodes()) # Total population\n",
    "    I0 = 1 #initial infected \n",
    "    S0 = N - I0 #initial susceptibles\n",
    "\n",
    "\n",
    "    def SIS(y, t, N, beta, gamma):\n",
    "        S, I = y\n",
    "        dSdt = -beta * S * I / N +gamma*I\n",
    "\n",
    "\n",
    "        dIdt = beta * S * I / N - gamma * I\n",
    "        return dSdt, dIdt\n",
    "\n",
    "\n",
    "    y0 = S0, I0 #Initial condituions\n",
    "\n",
    "    diff = odeint(SIS, y0, t, args=(N, beta, gamma))\n",
    "    S, I = diff.T\n",
    "\n",
    "\n",
    "    a=ax1.plot(t, I/N, 'r',label=(\"SIS\",round(max(I/N),2)))\n",
    "    \n",
    "#     plt.xlabel('Timesteps')\n",
    "#     plt.ylabel('fraction of infectives')\n",
    "#     plt.ylim(0,1)\n",
    "\n",
    "#     plt.show()\n",
    "    return a\n"
   ]
  },
  {
   "cell_type": "markdown",
   "metadata": {},
   "source": [
    "# Kephart White Model\n"
   ]
  },
  {
   "cell_type": "code",
   "execution_count": null,
   "metadata": {},
   "outputs": [],
   "source": [
    "#average degree of networks\n",
    "def ave_deg(g):\n",
    "    degrees=dict(g.degree())\n",
    "    list_deg=list(degrees.values())\n",
    "    av_k=np.mean(list_deg)\n",
    "    return av_k"
   ]
  },
  {
   "cell_type": "code",
   "execution_count": null,
   "metadata": {},
   "outputs": [],
   "source": [
    "def my_KW(g,beta,gamma,t,ax1): # The Kephart and White Model\n",
    "    N=len(g.nodes())\n",
    "        \n",
    "    def kephart(eta,t): \n",
    "\n",
    "        return beta*ave_deg(g)*eta*(1-eta/N)-gamma*eta\n",
    "\n",
    "    eta0=1\n",
    "    y=odeint(kephart,eta0,t)\n",
    "    a=ax1.plot(t, y/N, 'k',label=(\"KW\",(max(y/N),2)))\n",
    "    return a"
   ]
  },
  {
   "cell_type": "code",
   "execution_count": null,
   "metadata": {},
   "outputs": [],
   "source": []
  },
  {
   "cell_type": "code",
   "execution_count": null,
   "metadata": {},
   "outputs": [],
   "source": [
    "# set width of bar\n",
    "barWidth = 0.25\n",
    "fig = plt.subplots(figsize =(12, 8))\n",
    " \n",
    "# set height of bar\n",
    "NLDS = [0.57,0.79, .81, 0.8,0.92,.85]\n",
    "KW = [0.53, 0.85, 0.81, 0.85,.87,.83]\n",
    "SIS = [0, 0, 0.02, 0.01,0,0]\n",
    " \n",
    "# Set position of bar on X axis\n",
    "br1 = np.arange(6)\n",
    "br2 = [x + barWidth for x in br1]\n",
    "br3 = [x + barWidth for x in br2]\n",
    " \n",
    "# Make the plot\n",
    "plt.bar(br1, NLDS, color ='r', width = barWidth,\n",
    "        edgecolor ='grey', label ='NLDS')\n",
    "plt.bar(br2, KW, color ='g', width = barWidth,\n",
    "        edgecolor ='grey', label ='KW')\n",
    "plt.bar(br3, SIS, color ='b', width = barWidth,\n",
    "        edgecolor ='grey', label ='SIS')\n",
    " \n",
    "# Adding Xticks\n",
    "#plt.title(\"Beta=0.14 Gamma=0.14\")\n",
    "plt.legend()\n",
    "plt.grid()\n",
    "plt.xlabel('Data Sets', fontweight ='bold', fontsize = 15)\n",
    "plt.ylabel('Fraction Infected', fontweight ='bold', fontsize = 15)\n",
    "plt.xticks([r + barWidth for r in range(len(NLDS))],\n",
    "        ['Colorado Springs', 'Drugs', 'Dolphin', 'Les Miserables',\"ER\",'BA'])\n",
    "plt.show()"
   ]
  },
  {
   "cell_type": "markdown",
   "metadata": {},
   "source": [
    "https://www.geeksforgeeks.org/bar-plot-in-matplotlib/\n",
    "\n",
    "I edited this code by adding my own values and titles."
   ]
  },
  {
   "cell_type": "markdown",
   "metadata": {},
   "source": [
    "# VACCINATION"
   ]
  },
  {
   "cell_type": "markdown",
   "metadata": {},
   "source": [
    "### NB: For matrices, we return A\n",
    "\n",
    "### NB: For graphs we return r"
   ]
  },
  {
   "cell_type": "markdown",
   "metadata": {},
   "source": [
    "# Vaccinating hubs"
   ]
  },
  {
   "cell_type": "code",
   "execution_count": null,
   "metadata": {},
   "outputs": [],
   "source": [
    "\n",
    "def remove_hubs(g):\n",
    "    deg=np.array(list(dict(g.degree()).values())).astype(float) \n",
    "    deg_sort=sorted(deg, reverse=True)#sorting degrees\n",
    "    mx=deg_sort[:int(0.1*len(g.nodes()))]# 10% of nodes\n",
    "    a=[]\n",
    "    for nodes in g.nodes(): # returning hubs\n",
    "        if g.degree(nodes) in mx:\n",
    "            a.append(nodes) \n",
    "    \n",
    "    \n",
    "    gnow=g.copy()\n",
    "    gnow.remove_nodes_from(a) #removing hubs\n",
    "\n",
    "    A=nx.to_numpy_matrix(gnow)\n",
    "    gnow=nx.from_numpy_matrix(A)\n",
    "    \n",
    "    #infecting largest component to get maximum infection\n",
    "    component_subgraph_list = list(nx.connected_component_subgraphs(gnow))\n",
    "    largest_component= max(component_subgraph_list,key=len)\n",
    "                                   \n",
    "    t=nx.degree_centrality(largest_component) #infecting  nodes with highest deg\n",
    "    sorted_tuples = sorted(t.items(), key=operator.itemgetter(1),reverse=True)\n",
    "    sorted_dict = {k: v for k, v in sorted_tuples}\n",
    "\n",
    "    p=list(sorted_dict.keys()) \n",
    "    q=p[:5] # averaging on 5 graphs starting at different  nodes\n",
    "    s=[]\n",
    "    for i in q: #ndls\n",
    "        m=100\n",
    "        gamma=.08\n",
    "        beta=.14\n",
    "        init = np.zeros(len(A))\n",
    "        init[int(i)] = 1\n",
    "        t,p1 = trial(A,gamma,beta,m,init)\n",
    "        s.append(t)\n",
    "        c=np.mean(s, axis=0)\n",
    "    r=plt.plot(range(m),c/len( matrix(g)),'r',label=('hubs_vaccine'))\n",
    "# #     plt.figure(figsize=(18,18))\n",
    "\n",
    "#     b=nx.draw_networkx(gnow)\n",
    "#     plt.axis('off')\n",
    "#     #plt.savefig(\"pth2.png\")\n",
    "#     plt.show()\n",
    "    return r\n"
   ]
  },
  {
   "cell_type": "markdown",
   "metadata": {},
   "source": [
    "# Random Vaccination"
   ]
  },
  {
   "cell_type": "code",
   "execution_count": null,
   "metadata": {},
   "outputs": [],
   "source": [
    "def remove_random(g):\n",
    "    ran= sample(list(g.nodes()), int(0.1*len(g.nodes()))) #seleting random nodes\n",
    "    \n",
    "    gnow=g.copy()\n",
    "    gnow.remove_nodes_from(ran) #removing nodes\n",
    "\n",
    "    A=nx.to_numpy_matrix(gnow)\n",
    "    gnow=nx.from_numpy_matrix(A) \n",
    "    \n",
    "    #infecting the largest component\n",
    "    component_subgraph_list = list(nx.connected_component_subgraphs(gnow))\n",
    "    largest_component= max(component_subgraph_list,key=len)\n",
    "                                   \n",
    "    t=nx.degree_centrality(largest_component)\n",
    "    sorted_tuples = sorted(t.items(), key=operator.itemgetter(1),reverse=True)\n",
    "    sorted_dict = {k: v for k, v in sorted_tuples}\n",
    "\n",
    "    p=list(sorted_dict.keys()) \n",
    "    q=p[:5] # getting 5 starting points\n",
    "    s=[]\n",
    "    for i in q:\n",
    "        m=100\n",
    "        gamma=.08\n",
    "        beta=.14\n",
    "        init = np.zeros(len(A))\n",
    "        init[int(i)] = 1\n",
    "        t,p1 = trial(A,gamma,beta,m,init)\n",
    "        s.append(t)\n",
    "        c=np.mean(s, axis=0)#averaging over the 5 graphs\n",
    "    r=plt.plot(range(m),c/len( matrix(g)),'b',label=('random_vaccine'))\n",
    "\n",
    "    return r\n",
    "#"
   ]
  },
  {
   "cell_type": "markdown",
   "metadata": {},
   "source": [
    " \n",
    "# Node Betweenness"
   ]
  },
  {
   "cell_type": "code",
   "execution_count": null,
   "metadata": {},
   "outputs": [],
   "source": [
    "def remove_node_btwn(g):\n",
    "    d=nx.betweenness_centrality(g) #\n",
    "    sorted_tuples = sorted(d.items(), key=operator.itemgetter(1),reverse=True)\n",
    "    sorted_dict = {k: v for k, v in sorted_tuples}\n",
    "\n",
    "    e=list(sorted_dict.keys()) \n",
    "    f=e[:int(0.1*len(g.nodes()))] # 10% nodes with highest betweenness\n",
    "    \n",
    "    gnow=g.copy()\n",
    "    gnow.remove_nodes_from(f)\n",
    "\n",
    "    A=nx.to_numpy_matrix(gnow)\n",
    "    gnow=nx.from_numpy_matrix(A) \n",
    "    \n",
    "    # infecting central node in largest component\n",
    "    component_subgraph_list = list(nx.connected_component_subgraphs(gnow))\n",
    "    largest_component= max(component_subgraph_list,key=len)\n",
    "                                   \n",
    "    t=nx.degree_centrality(largest_component)\n",
    "    sorted_tuples = sorted(t.items(), key=operator.itemgetter(1),reverse=True)\n",
    "    sorted_dict = {k: v for k, v in sorted_tuples}\n",
    "\n",
    "    p=list(sorted_dict.keys()) \n",
    "    q=p[:5]\n",
    "    s=[]\n",
    "    for i in q:\n",
    "        m=100\n",
    "        gamma=.08\n",
    "        beta=.14\n",
    "        init = np.zeros(len(A))\n",
    "        init[int(i)] = 1\n",
    "        t,p1 = trial(A,gamma,beta,m,init)\n",
    "        s.append(t)\n",
    "        c=np.mean(s, axis=0)\n",
    "    r=plt.plot(range(m),c/len( matrix(g)),'k',label=('node_betweenness_vaccine'))\n",
    "# #     plt.figure(figsize=(18,18))\n",
    "\n",
    "#     b=nx.draw_networkx(gnow)\n",
    "#     plt.axis('off')\n",
    "#     #plt.savefig(\"pth2.png\")\n",
    "#     plt.show()\n",
    "    return r"
   ]
  },
  {
   "cell_type": "markdown",
   "metadata": {},
   "source": [
    "# Eigen Centrality"
   ]
  },
  {
   "cell_type": "code",
   "execution_count": null,
   "metadata": {},
   "outputs": [],
   "source": [
    "def remove_eigen(g):\n",
    "    d=nx.eigenvector_centrality_numpy(g) # sorting nodes using eigenvecctor centrality\n",
    "    sorted_tuples = sorted(d.items(), key=operator.itemgetter(1),reverse=True)\n",
    "    sorted_dict = {k: v for k, v in sorted_tuples}\n",
    "\n",
    "    e=list(sorted_dict.keys()) \n",
    "    f=e[:int(0.5*len(g.nodes()))] #highest 10%\n",
    "    \n",
    "    gnow=g.copy()\n",
    "    gnow.remove_nodes_from(f)\n",
    "    A=nx.to_numpy_matrix(gnow)\n",
    "    gnow=nx.from_numpy_matrix(A) \n",
    "    # infecting central node in largest component\n",
    "    component_subgraph_list = list(nx.connected_component_subgraphs(gnow))\n",
    "    largest_component= max(component_subgraph_list,key=len)\n",
    "                                   \n",
    "    t=nx.degree_centrality(largest_component)\n",
    "    sorted_tuples = sorted(t.items(), key=operator.itemgetter(1),reverse=True)\n",
    "    sorted_dict = {k: v for k, v in sorted_tuples}\n",
    "\n",
    "    p=list(sorted_dict.keys()) \n",
    "    q=p[:5]\n",
    "    s=[]\n",
    "    for i in q:\n",
    "        m=100\n",
    "        gamma=.08\n",
    "        beta=.14\n",
    "        init = np.zeros(len(A))\n",
    "        init[int(i)] = 1\n",
    "        t,p1 = trial(A,gamma,beta,m,init)\n",
    "        s.append(t)\n",
    "        c=np.mean(s, axis=0)\n",
    "    r=plt.plot(range(m),c/len( matrix(g)),'g',label=('eigen_vaccine'))\n",
    "# #     plt.figure(figsize=(18,18))\n",
    "\n",
    "#     b=nx.draw_networkx(gnow)\n",
    "#     plt.axis('off')\n",
    "#     #plt.savefig(\"pth2.png\")\n",
    "#     plt.show()\n",
    "\n",
    "    return r"
   ]
  },
  {
   "cell_type": "markdown",
   "metadata": {},
   "source": [
    "\n",
    "# Acquaintance Vaccination"
   ]
  },
  {
   "cell_type": "code",
   "execution_count": null,
   "metadata": {},
   "outputs": [],
   "source": [
    "def acquintance(g):\n",
    "    a=sample(list(g.nodes()), int(0.1*len(g.nodes())))# selecting random node\n",
    "    k=[]\n",
    "    for i in a: #selecting neighbour of the random node\n",
    "        b=sample(list(g.neighbors(i)), 1)\n",
    "        k.append(b)\n",
    "    f = []\n",
    "    for sublist in k: #unpacking list of lists\n",
    "        for node in sublist:\n",
    "            f.append(node)\n",
    "    gnow=g.copy()\n",
    "    gnow.remove_nodes_from(f)\n",
    "\n",
    "    A=nx.to_numpy_matrix(gnow)\n",
    "    gnow=nx.from_numpy_matrix(A) \n",
    "    #infecting the largest component\n",
    "    component_subgraph_list = list(nx.connected_component_subgraphs(gnow))\n",
    "    largest_component= max(component_subgraph_list,key=len)\n",
    "                                   \n",
    "    t=nx.degree_centrality(largest_component)\n",
    "    sorted_tuples = sorted(t.items(), key=operator.itemgetter(1),reverse=True)\n",
    "    sorted_dict = {k: v for k, v in sorted_tuples}\n",
    "\n",
    "    p=list(sorted_dict.keys()) \n",
    "    q=p[:5]\n",
    "    s=[]\n",
    "    for i in q:\n",
    "        m=100\n",
    "        gamma=.08\n",
    "        beta=.14\n",
    "        init = np.zeros(len(A))\n",
    "        init[int(i)] = 1\n",
    "        t,p1 = trial(A,gamma,beta,m,init)\n",
    "        s.append(t)\n",
    "        c=np.mean(s, axis=0)\n",
    "    r=plt.plot(range(m),c/len( matrix(g)),'gray',label=('random_acquintance_vaccine'))\n",
    "#     plt.figure(figsize=(18,18))\n",
    "\n",
    "#     b=nx.draw_networkx(gnow)\n",
    "#     plt.axis('off')\n",
    "#     #plt.savefig(\"pth2.png\")\n",
    "#     plt.show()\n",
    "    return r"
   ]
  },
  {
   "cell_type": "markdown",
   "metadata": {},
   "source": [
    "# Plotting"
   ]
  },
  {
   "cell_type": "code",
   "execution_count": null,
   "metadata": {},
   "outputs": [],
   "source": [
    "def my_graphs(g):\n",
    "    plt.clf()\n",
    "    fig1=plt.figure()\n",
    "    ax1=fig1.add_subplot(111)\n",
    "    remove_hubs_edges(g)\n",
    "    rand_eg_removed(g)\n",
    "    max_edge_btwn(g)\n",
    "    max_hub_edge_btwn(g)\n",
    "    epidemic(g)\n",
    "    ax1.grid()\n",
    "    plt.xlabel('timesteps')\n",
    "    plt.ylabel(' fraction infected')\n",
    "    plt.legend()\n",
    "    plt.show()\n",
    "    return ax1"
   ]
  },
  {
   "cell_type": "markdown",
   "metadata": {},
   "source": [
    "# SOCIAL DISTANCING"
   ]
  },
  {
   "cell_type": "markdown",
   "metadata": {},
   "source": [
    "# Most connected edges"
   ]
  },
  {
   "cell_type": "code",
   "execution_count": null,
   "metadata": {},
   "outputs": [],
   "source": [
    "\n",
    "def remove_hubs_edges(g): #removing hubs from line graph\n",
    "    \n",
    "    c=nx.line_graph(g)\n",
    "    #sorting degrees\n",
    "    deg=np.array(list(dict(c.degree()).values())).astype(float)\n",
    "    deg_sort=sorted(deg, reverse=True)\n",
    "    mx=deg_sort[:int(0.1*len(c.nodes()))]\n",
    "    a=[]\n",
    "    for nodes in c.nodes():\n",
    "        if c.degree(nodes) in mx:\n",
    "            a.append(nodes) \n",
    "    \n",
    "    \n",
    "    gnow=g.copy()\n",
    "    gnow.remove_edges_from(a)\n",
    "\n",
    "    A=nx.to_numpy_matrix(gnow)\n",
    "    gnow=nx.from_numpy_matrix(A)\n",
    "    component_subgraph_list = list(nx.connected_component_subgraphs(gnow))\n",
    "    largest_component= max(component_subgraph_list,key=len)\n",
    "                                   \n",
    "    t=nx.degree_centrality(largest_component)\n",
    "    sorted_tuples = sorted(t.items(), key=operator.itemgetter(1),reverse=True)\n",
    "    sorted_dict = {k: v for k, v in sorted_tuples}\n",
    "\n",
    "    p=list(sorted_dict.keys()) \n",
    "    q=p[:5]\n",
    "    s=[]\n",
    "    for i in q:\n",
    "        m=100\n",
    "        gamma=.08\n",
    "        beta=.14\n",
    "        init = np.zeros(len(A))\n",
    "        init[int(i)] = 1\n",
    "        t,p1 = trial(A,gamma,beta,m,init)\n",
    "        s.append(t)\n",
    "        j=np.mean(s, axis=0)\n",
    "    r=plt.plot(range(m),j/len(matrix(g)),'cyan',label=('max_connected_edges'))\n",
    "#     plt.figure(figsize=(18,18))\n",
    "   # plt.grid()\n",
    "#     b=nx.draw_networkx(gnow)\n",
    "#     plt.axis('off')\n",
    "#     #plt.savefig(\"pth2.png\")\n",
    "#     plt.show()\n",
    "    \n",
    "    return r"
   ]
  },
  {
   "cell_type": "markdown",
   "metadata": {},
   "source": [
    "# Random"
   ]
  },
  {
   "cell_type": "code",
   "execution_count": null,
   "metadata": {},
   "outputs": [],
   "source": [
    "def rand_eg_removed(g):\n",
    "    rand_eg=sample(list(g.edges()), int(0.1*len(g.edges())))\n",
    "    gnow=g.copy()\n",
    "    gnow.remove_edges_from(rand_eg) # removing random edges\n",
    "\n",
    "    A=nx.to_numpy_matrix(gnow)\n",
    "    gnow=nx.from_numpy_matrix(A) \n",
    "    #infecting the largest component\n",
    "    component_subgraph_list = list(nx.connected_component_subgraphs(gnow))\n",
    "    largest_component= max(component_subgraph_list,key=len)\n",
    "    #infecting nodes with highest degrees and averaging                              \n",
    "    t=nx.degree_centrality(largest_component)\n",
    "    sorted_tuples = sorted(t.items(), key=operator.itemgetter(1),reverse=True)\n",
    "    sorted_dict = {k: v for k, v in sorted_tuples}\n",
    "\n",
    "    p=list(sorted_dict.keys()) \n",
    "    q=p[:5]\n",
    "    s=[]\n",
    "    for i in q:\n",
    "        m=100\n",
    "        gamma=.08\n",
    "        beta=.14\n",
    "        init = np.zeros(len(A))\n",
    "        init[int(i)] = 1\n",
    "        t,p1 = trial(A,gamma,beta,m,init)\n",
    "        s.append(t)\n",
    "        c=np.mean(s, axis=0)\n",
    "    r=plt.plot(range(m),c/len( matrix(g)),'p',label=('random_edges'))\n",
    "#     plt.figure(figsize=(18,18))\n",
    "#     b=nx.draw_networkx(gnow)\n",
    "#     plt.axis('off')\n",
    "#     #plt.savefig(\"pth2.png\")\n",
    "#     plt.show()\n",
    "    return r"
   ]
  },
  {
   "cell_type": "markdown",
   "metadata": {},
   "source": [
    "# Edge Betweenness"
   ]
  },
  {
   "cell_type": "code",
   "execution_count": null,
   "metadata": {},
   "outputs": [],
   "source": [
    "def max_edge_btwn(g): #removing 10% edges with highest edge betweenness\n",
    "    d=nx.edge_betweenness_centrality(g)\n",
    "    sorted_tuples = sorted(d.items(), key=operator.itemgetter(1),reverse=True)\n",
    "    sorted_dict = {k: v for k, v in sorted_tuples}\n",
    "\n",
    "    e=list(sorted_dict.keys()) \n",
    "\n",
    "    t=e[:int(0.88*len(g.edges()))] #10% edges with highest edge betweenness\n",
    "    \n",
    "    k=g.copy()\n",
    "    k.remove_edges_from(t)\n",
    "    A=nx.to_numpy_matrix(k)\n",
    "    k=nx.from_numpy_matrix(A)\n",
    "    \n",
    "    component_subgraph_list = list(nx.connected_component_subgraphs(k)) #infecting largest component\n",
    "    largest_component= max(component_subgraph_list,key=len)\n",
    "                                   \n",
    "    h=nx.degree_centrality(largest_component)\n",
    "    sorted_tuples = sorted(h.items(), key=operator.itemgetter(1),reverse=True)\n",
    "    sorted_dict = {k: v for k, v in sorted_tuples}\n",
    "\n",
    "    p=list(sorted_dict.keys()) \n",
    "    q=p[:5]\n",
    "    s=[]\n",
    "    for i in q:\n",
    "        m=100\n",
    "        gamma=.08\n",
    "        beta=.14\n",
    "        init = np.zeros(len(A))\n",
    "        init[int(i)] = 1\n",
    "        t,p1 = trial(A,gamma,beta,m,init)\n",
    "        s.append(t)\n",
    "        c=np.mean(s, axis=0)\n",
    "    r=plt.plot(range(m),c/len( matrix(g)),'gold',label=('edge_betweenness'))\n",
    "#      plt.figure(figsize=(18,18))\n",
    "\n",
    "#     b=nx.draw_networkx(gnow)\n",
    "#     plt.axis('off')\n",
    "#     #plt.savefig(\"pth2.png\")\n",
    "#     plt.show()\n",
    "    return r"
   ]
  },
  {
   "cell_type": "markdown",
   "metadata": {},
   "source": [
    "# Removing High betweenness edges from hubs"
   ]
  },
  {
   "cell_type": "code",
   "execution_count": null,
   "metadata": {},
   "outputs": [],
   "source": [
    "def hubs(g): \n",
    "    \"\"\"ten% nodes with the highest degree\n",
    "    \"\"\"\n",
    "    deg=np.array(list(dict(g.degree()).values())).astype(float) \n",
    "    deg_sort=sorted(deg, reverse=True)#sorting degrees\n",
    "    mx=deg_sort[:int(0.1*(len(g.nodes())))]\n",
    "    a=[]\n",
    "    for nodes in g.nodes:\n",
    "        if g.degree(nodes) in mx:\n",
    "            a.append(nodes)   \n",
    "    return a\n",
    "\n",
    "def highest_btwn_hubs(g): #edges with highest betweenness from hubs\n",
    "    t=nx.edge_betweenness(g)\n",
    "    s=[]\n",
    "    u=[]\n",
    "    for i in hubs(g): # edges of hubs\n",
    "        r=list(g.edges([i]))\n",
    "        s.append(r)\n",
    "    def get_key(val):#betweenness of edges\n",
    "        for key, value in t.items():\n",
    "            if val == key or (key[1],key[0])==val:\n",
    "                return key,value\n",
    "    k=list(t.keys())\n",
    "    my_btn = [[] for i in range(len(hubs(g)))] #hub_edges  and their edge_betweenness\n",
    "    for i,j in enumerate(s):\n",
    "        for k in j:\n",
    "            y=get_key(k)\n",
    "            my_btn[i].append(y)\n",
    "    def maxi_edi(x): # returning edges with maximum betweenness\n",
    "        maxi = max([i[1] for i in x])\n",
    "        return [i for i in x if i[1]==maxi]\n",
    "    for i in my_btn:\n",
    "        u.append(maxi_edi(i))\n",
    "    \n",
    "    return u # LIST OF LISTS OF ALL HUB EDGES WITH THEIR MAXIMUM BETWEENNESS"
   ]
  },
  {
   "cell_type": "code",
   "execution_count": 4,
   "metadata": {},
   "outputs": [],
   "source": [
    "def hub_edge_btwn(g): #unpacking list to get only the edges\n",
    "    a = []\n",
    "    for sublist in highest_btwn_hubs(g):\n",
    "        for item in sublist:\n",
    "            a.append(item[0])\n",
    "    return(a)"
   ]
  },
  {
   "cell_type": "markdown",
   "metadata": {},
   "source": [
    "https://www.codegrepper.com/code-examples/python/python+unpack+list+of+lists"
   ]
  },
  {
   "cell_type": "code",
   "execution_count": null,
   "metadata": {},
   "outputs": [],
   "source": [
    "def max_hub_edge_btwn(g): #removing edges  with highest betweenness from hubs\n",
    "    t=hub_edge_btwn(g)\n",
    "    \n",
    "    k=g.copy()\n",
    "    k.remove_edges_from(t)\n",
    "    A=nx.to_numpy_matrix(k)\n",
    "    k=nx.from_numpy_matrix(A)\n",
    "    \n",
    "    component_subgraph_list = list(nx.connected_component_subgraphs(k))\n",
    "    largest_component= max(component_subgraph_list,key=len)\n",
    "                                   \n",
    "    h=nx.degree_centrality(largest_component)\n",
    "    sorted_tuples = sorted(h.items(), key=operator.itemgetter(1),reverse=True)\n",
    "    sorted_dict = {k: v for k, v in sorted_tuples}\n",
    "\n",
    "    p=list(sorted_dict.keys()) \n",
    "    q=p[:5]\n",
    "    s=[]\n",
    "    for i in q:\n",
    "        m=100\n",
    "        gamma=.08\n",
    "        beta=.14\n",
    "        init = np.zeros(len(A))\n",
    "        init[int(i)] = 1\n",
    "        t,p1 = trial(A,gamma,beta,m,init)\n",
    "        s.append(t)\n",
    "        c=np.mean(s, axis=0)\n",
    "    r=plt.plot(range(m),c/len( matrix(g)),'m',label=('edge_betweenness_hubs'))\n",
    "#     plt.figure(figsize=(18,18))\n",
    "\n",
    "#     b=nx.draw_networkx(k)\n",
    "#     plt.axis('off')\n",
    "#     #plt.savefig(\"pth2.png\")\n",
    "#     plt.show()\n",
    "    return r"
   ]
  },
  {
   "cell_type": "code",
   "execution_count": null,
   "metadata": {},
   "outputs": [],
   "source": [
    "def my_graphs2(g):\n",
    "    plt.clf()\n",
    "    fig1=plt.figure()\n",
    "    ax1=fig1.add_subplot(111)\n",
    "    epidemic(g)\n",
    "    remove_hubs_edges(g)\n",
    "    rand_eg_removed(g)\n",
    "    max_edge_btwn(g)\n",
    "    max_hub_edge_btwn(g)\n",
    "    ax1.grid()\n",
    "    plt.xlabel('timesteps')\n",
    "    plt.ylabel(' fraction infected')\n",
    "    plt.legend()\n",
    "    plt.show()\n",
    "    return ax1"
   ]
  },
  {
   "cell_type": "markdown",
   "metadata": {},
   "source": [
    "# Vaccination vs Social Distancing"
   ]
  },
  {
   "cell_type": "code",
   "execution_count": null,
   "metadata": {},
   "outputs": [],
   "source": [
    "#PLOTTING\n",
    "def my_graphs3(g):\n",
    "    plt.clf()\n",
    "    fig1=plt.figure()\n",
    "    ax1=fig1.add_subplot(111)\n",
    "    remove_hubs(g)\n",
    "    remove_random(g)\n",
    "    remove_node_btwn(g)\n",
    "    remove_eigen(g)\n",
    "    epidemic(g)\n",
    "    acquintance(g)\n",
    "    remove_hubs_edges(g)\n",
    "    rand_eg_removed(g)\n",
    "    max_edge_btwn(g)\n",
    "    max_hub_edge_btwn(g)\n",
    "    ax1.grid()\n",
    "    plt.xlabel('timesteps')\n",
    "    plt.ylabel(' fraction infected')\n",
    "    plt.legend()\n",
    "    plt.show()\n",
    "    return ax1"
   ]
  },
  {
   "cell_type": "markdown",
   "metadata": {},
   "source": [
    "# Degree Distribution"
   ]
  },
  {
   "cell_type": "code",
   "execution_count": null,
   "metadata": {},
   "outputs": [],
   "source": [
    "def deg_seq(g):  \n",
    "    pk=[i/g.number_of_nodes() for i in nx.degree_histogram(g)]\n",
    "    return pk"
   ]
  },
  {
   "cell_type": "code",
   "execution_count": null,
   "metadata": {},
   "outputs": [],
   "source": [
    "fig, axes = plt.subplots(nrows=2, ncols=4, figsize=(12, 5))\n",
    "axes[0,0].plot(deg_seq(F), 'b-',label='Les Mis')\n",
    "\n",
    "axes[0,1].plot(deg_seq(ER), 'r-',label='ER')\n",
    "\n",
    "axes[0,2].plot(deg_seq(G), 'g',label='Colorado Springs')\n",
    "\n",
    "axes[0,3].plot(deg_seq(D), 'm',label='Drugs')\n",
    "\n",
    "axes[1,0].plot(deg_seq(Z), 'k',label='Dolphin')\n",
    "axes[1,1].plot(deg_seq(BA), 'y',label='Barabasi Albert')\n",
    "axes[1,2].plot(deg_seq(air2), 'brown',label='Airlines')\n",
    "axes[1,3].plot(deg_seq(rd), 'cyan',label='Road')\n",
    "\n",
    "for ax in axes.flat:\n",
    "    ax.set(xlabel='degrees', ylabel='fraction of nodes')\n",
    "    ax.legend()\n",
    "plt.show()"
   ]
  },
  {
   "cell_type": "markdown",
   "metadata": {},
   "source": [
    "For subplots I used this page as a guide.\n",
    "\n",
    "https://matplotlib.org/devdocs/gallery/subplots_axes_and_figures/subplots_demo.html\n"
   ]
  },
  {
   "cell_type": "markdown",
   "metadata": {},
   "source": [
    "# network properties"
   ]
  },
  {
   "cell_type": "code",
   "execution_count": null,
   "metadata": {},
   "outputs": [],
   "source": [
    "# CLUSTERING\n",
    "nx.average_clustering(g)"
   ]
  },
  {
   "cell_type": "code",
   "execution_count": null,
   "metadata": {},
   "outputs": [],
   "source": [
    "# DENSITY d=2m/n(n-1)\n",
    "\n",
    "nx.density(g)"
   ]
  },
  {
   "cell_type": "code",
   "execution_count": null,
   "metadata": {},
   "outputs": [],
   "source": [
    "# SHORTEST PATH LENGTH\n",
    "\n",
    "nx.average_shortest_path_length(g) #shortest path"
   ]
  },
  {
   "cell_type": "code",
   "execution_count": null,
   "metadata": {},
   "outputs": [],
   "source": [
    "def eigenvals(g): #eigenvalues of adjacency matrix of network\n",
    "    return round(max(np.linalg.eigvals(matrix(g))).real,3)"
   ]
  },
  {
   "cell_type": "markdown",
   "metadata": {},
   "source": [
    "# Thresholds"
   ]
  },
  {
   "cell_type": "code",
   "execution_count": null,
   "metadata": {},
   "outputs": [],
   "source": [
    "def remove_hubs(g):\n",
    "    deg=np.array(list(dict(g.degree()).values())).astype(float) \n",
    "    deg_sort=sorted(deg, reverse=True)#sorting degrees\n",
    "    mx=deg_sort[:int(0.1*len(g.nodes()))]# 10% of nodes\n",
    "    a=[]\n",
    "    for nodes in g.nodes(): # returning hubs\n",
    "        if g.degree(nodes) in mx:\n",
    "            a.append(nodes) \n",
    "    \n",
    "    \n",
    "    gnow=g.copy()\n",
    "    gnow.remove_nodes_from(a) #removing hubs\n",
    "\n",
    "    A=nx.to_numpy_matrix(gnow)\n",
    "    gnow=nx.from_numpy_matrix(A)\n",
    "    return  round(max(np.linalg.eigvals(A)).real,3) #returns largest eigenvalue"
   ]
  },
  {
   "cell_type": "code",
   "execution_count": null,
   "metadata": {},
   "outputs": [],
   "source": [
    "def hubs(g):\n",
    "    a=(remove_hub(g), remove_hubsa(g), remove_hubsb(g),remove_hubsc(g),remove_hubsd(g),remove_hubse(g),\n",
    "       remove_hubsf(g),remove_hubsg(g),remove_hubsh(g))\n",
    "    return a"
   ]
  },
  {
   "cell_type": "markdown",
   "metadata": {},
   "source": [
    "NB: Remove_hubs(a,b,c,d,e,f,g,h)(g) removes different fraction of nodes "
   ]
  },
  {
   "cell_type": "code",
   "execution_count": null,
   "metadata": {},
   "outputs": [],
   "source": [
    "\"\"\"returns s when nodes are removed\n",
    "\"\"\"\n",
    "def thresh(g):\n",
    "    w=[]\n",
    "    beta=0.14\n",
    "    gamma=0.08\n",
    "    r=(beta/gamma)\n",
    "    d=list(hubs(g))\n",
    "    for i in range(len(hubs(g))):\n",
    "        s=r*d[i]\n",
    "        w.append(s)\n",
    "    return w  "
   ]
  },
  {
   "cell_type": "code",
   "execution_count": null,
   "metadata": {},
   "outputs": [],
   "source": []
  },
  {
   "cell_type": "code",
   "execution_count": null,
   "metadata": {},
   "outputs": [],
   "source": [
    "def max_edge_btwna(g): #removing 10% edges with highest edge betweenness\n",
    "    d=nx.edge_betweenness_centrality(g)\n",
    "    sorted_tuples = sorted(d.items(), key=operator.itemgetter(1),reverse=True)\n",
    "    sorted_dict = {k: v for k, v in sorted_tuples}\n",
    "\n",
    "    e=list(sorted_dict.keys()) \n",
    "\n",
    "    t=e[:int(0*len(g.edges()))] #10% edges with highest edge betweenness\n",
    "    \n",
    "    k=g.copy()\n",
    "    k.remove_edges_from(t)\n",
    "    A=nx.to_numpy_matrix(k)\n",
    "    return  round(max(np.linalg.eigvals(A)).real,3)"
   ]
  },
  {
   "cell_type": "code",
   "execution_count": null,
   "metadata": {},
   "outputs": [],
   "source": [
    "def edges(g):\n",
    "    a=(max_edge_btwna(g),max_edge_btwnb(g),max_edge_btwnc(g),max_edge_btwnd(g),max_edge_btwne(g),\n",
    "      max_edge_btwnf(g),max_edge_btwng(g))\n",
    "    return a"
   ]
  },
  {
   "cell_type": "code",
   "execution_count": null,
   "metadata": {},
   "outputs": [],
   "source": [
    "def thresh3(g):\n",
    "    w=[]\n",
    "    beta=0.14\n",
    "    gamma=0.08\n",
    "    r=(beta/gamma)\n",
    "    d=list(edges(g))\n",
    "    for i in range(len(edges(g))):\n",
    "        s=r*d[i]\n",
    "        w.append(s)\n",
    "    return w  "
   ]
  },
  {
   "cell_type": "markdown",
   "metadata": {},
   "source": [
    "# Differences in eigenvalues"
   ]
  },
  {
   "cell_type": "code",
   "execution_count": 6,
   "metadata": {},
   "outputs": [],
   "source": [
    "def eigenvalue_diff(g):\n",
    "    x=[max(np.linalg.eigvals(matrix(g)))] # largest eigenvalue of adjacency matrix\n",
    "    \n",
    "    # Eigenvalues after vaccination strategies\n",
    "    y=[max(np.linalg.eigvals(remove_hubs(g))),max(np.linalg.eigvals(remove_random(g))),max(np.linalg.eigvals(remove_node_btwn(g))),max(np.linalg.eigvals(remove_eigen(g))),max(np.linalg.eigvals(acquintance(g)))]\n",
    "    h=[]\n",
    "    for i in range(len(y)): #getting difference of largest eigenvalue after vaccination\n",
    "        k=(x[0]-y[i])\n",
    "        h.append(round(k.real,3))\n",
    "    return h"
   ]
  },
  {
   "cell_type": "code",
   "execution_count": null,
   "metadata": {},
   "outputs": [],
   "source": []
  },
  {
   "cell_type": "markdown",
   "metadata": {},
   "source": [
    "# Communities"
   ]
  },
  {
   "cell_type": "code",
   "execution_count": null,
   "metadata": {},
   "outputs": [],
   "source": [
    "def my_partition(g): #partition networks\n",
    "    partition = community_louvain.best_partition(g)\n",
    "\n",
    "# draw the graph\n",
    "    pos = nx.spring_layout(g)\n",
    "    # color the nodes according to their partition\n",
    "    cmap = cm.get_cmap('viridis', max(partition.values()) + 1)\n",
    "\n",
    "    plt.figure(figsize=(18,18))\n",
    "    nx.draw_networkx_nodes(g, pos, partition.keys(), node_size=60,\n",
    "                           cmap=cmap, node_color=list(partition.values()))\n",
    "    a=nx.draw_networkx_edges(g, pos, alpha=0.5)\n",
    "    plt.show()\n",
    "    return a, community_louvain.modularity(partition,g) #returns graph and modularity score"
   ]
  },
  {
   "cell_type": "code",
   "execution_count": null,
   "metadata": {},
   "outputs": [],
   "source": [
    "def my_communities(g):\n",
    "    partition = community_louvain.best_partition(g) #detecting communities \n",
    "\n",
    "    # draw the graph\n",
    "    pos = nx.spring_layout(g)\n",
    "    # color the nodes according to their partition\n",
    "    cmap = cm.get_cmap('viridis', max(partition.values()) + 1)\n",
    "    #print(partition)    \n",
    "    dic={}\n",
    "    for nodes in partition.keys():\n",
    "        if partition[nodes] in dic.keys(): #value of key\n",
    "            dic[partition[nodes]].append(nodes)# key appending value\n",
    "        else:\n",
    "            dic[partition[nodes]]=[nodes]\n",
    "    sub={}\n",
    "    for community in dic.keys():\n",
    "        sub[community]=g.subgraph(dic[community]) \n",
    "        \n",
    "    len_sub={community:len(sub[community]) for community in sub.keys()}   \n",
    "    #print(len_sub)\n",
    "#     plt.figure(figsize=(40,40))   \n",
    "#     for index,community in enumerate(dic.keys()):\n",
    "#         plt.subplot(len(sub),1,index+1)\n",
    "#         r= nx.draw_networkx(sub[community])\n",
    "\n",
    "    for community in sub.keys():\n",
    "        if len_sub[community]==max(len_sub.values()): # getting the largest community\n",
    "            p=sub[community]\n",
    "            #print(len(sub[community]))\n",
    "            #d=nx.draw_networkx(p)\n",
    "            break\n",
    "    e=nx.to_numpy_matrix(p)\n",
    "    return p #returning largest community"
   ]
  },
  {
   "cell_type": "code",
   "execution_count": null,
   "metadata": {},
   "outputs": [],
   "source": []
  },
  {
   "cell_type": "code",
   "execution_count": null,
   "metadata": {},
   "outputs": [],
   "source": [
    "def my_communities2(g): #\n",
    "    partition = community_louvain.best_partition(g)\n",
    "\n",
    "    # draw the graph\n",
    "    pos = nx.spring_layout(g)\n",
    "    # color the nodes according to their partition\n",
    "    cmap = cm.get_cmap('viridis', max(partition.values()) + 1)\n",
    "    #print(partition)    \n",
    "    dic={}\n",
    "    for nodes in partition.keys():\n",
    "        if partition[nodes] in dic.keys(): #value of key\n",
    "            dic[partition[nodes]].append(nodes)# key appending value\n",
    "        else:\n",
    "            dic[partition[nodes]]=[nodes]\n",
    "    sub={}\n",
    "    for community in dic.keys():\n",
    "        sub[community]=g.subgraph(dic[community]) \n",
    "        \n",
    "    len_sub={community:len(sub[community]) for community in sub.keys()}   \n",
    "    #print(len_sub)\n",
    "#     plt.figure(figsize=(40,40))   \n",
    "#     for index,community in enumerate(dic.keys()):\n",
    "#         plt.subplot(len(sub),1,index+1)\n",
    "#         r= nx.draw_networkx(sub[community])\n",
    "\n",
    "    for community in sub.keys():\n",
    "        if len_sub[community]==max(len_sub.values()): # getting the largest community\n",
    "            p=sub[community]\n",
    "            #print(len(sub[community]))\n",
    "            #d=nx.draw_networkx(p)\n",
    "            break\n",
    "    t=nx.degree_centrality(p) #infecting  nodes with highest deg\n",
    "    sorted_tuples = sorted(t.items(), key=operator.itemgetter(1),reverse=True)\n",
    "    sorted_dict = {k: v for k, v in sorted_tuples}\n",
    "\n",
    "    l=list(sorted_dict.keys()) \n",
    "    q=l[0] # averaging on 5 graphs starting at different  nodes\n",
    "    s=[]\n",
    "    #for i in q: #ndls\n",
    "    m=100\n",
    "    gamma=.08\n",
    "    beta=.14\n",
    "    init = np.zeros(len(matrix(g)))\n",
    "    init[0] = 1\n",
    "    t,p1 = trial(matrix(g),gamma,beta,m,init)\n",
    "    s.append(t)\n",
    "    c=np.mean(s, axis=0)\n",
    "    r=plt.plot(range(m),t/len(matrix(g)),'cyan',label=('population', round(max(t/len(matrix(g))),2)))\n",
    "    plt.legend() \n",
    "    plt.xlabel('timesteps')\n",
    "    plt.ylabel('fraction of infectives')\n",
    "    return r\n",
    "    "
   ]
  },
  {
   "cell_type": "code",
   "execution_count": null,
   "metadata": {},
   "outputs": [],
   "source": [
    "def epidemicom(g): # infecting the largest community\n",
    "    \n",
    "    m=100\n",
    "    gamma=.08\n",
    "    beta=.14\n",
    "    init = np.zeros(len(matrix(my_communities(g))))\n",
    "    init[0] = 1\n",
    "    t,p1 = trial(matrix(my_communities(g)),gamma,beta,m,init)\n",
    "    print(t/len(matrix(my_communities(g))))\n",
    "    print(len(matrix(my_communities(g))))\n",
    "    a=plt.plot(range(m),t/len(matrix(my_communities(g))),'x',label=('community',round(max(t/len(matrix(my_communities(g)))),2)))\n",
    "    b=plt.legend()\n",
    "    plt.xlabel('timesteps')\n",
    "    plt.ylabel('fraction of infectives')\n",
    "    return a,b"
   ]
  }
 ],
 "metadata": {
  "kernelspec": {
   "display_name": "Python 3",
   "language": "python",
   "name": "python3"
  },
  "language_info": {
   "codemirror_mode": {
    "name": "ipython",
    "version": 3
   },
   "file_extension": ".py",
   "mimetype": "text/x-python",
   "name": "python",
   "nbconvert_exporter": "python",
   "pygments_lexer": "ipython3",
   "version": "3.7.3"
  }
 },
 "nbformat": 4,
 "nbformat_minor": 2
}
